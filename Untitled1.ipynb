{
  "nbformat": 4,
  "nbformat_minor": 0,
  "metadata": {
    "colab": {
      "provenance": [],
      "authorship_tag": "ABX9TyMAfJiuECQRnKBsrYDRZzAZ",
      "include_colab_link": true
    },
    "kernelspec": {
      "name": "python3",
      "display_name": "Python 3"
    },
    "language_info": {
      "name": "python"
    }
  },
  "cells": [
    {
      "cell_type": "markdown",
      "metadata": {
        "id": "view-in-github",
        "colab_type": "text"
      },
      "source": [
        "<a href=\"https://colab.research.google.com/github/anatj5/antonyms-of-courageous/blob/main/Untitled1.ipynb\" target=\"_parent\"><img src=\"https://colab.research.google.com/assets/colab-badge.svg\" alt=\"Open In Colab\"/></a>"
      ]
    },
    {
      "cell_type": "code",
      "execution_count": 1,
      "metadata": {
        "colab": {
          "base_uri": "https://localhost:8080/"
        },
        "id": "tJfhKqv6rF_P",
        "outputId": "57ceb723-06cf-4246-faf9-29d55fc2d802"
      },
      "outputs": [
        {
          "output_type": "stream",
          "name": "stderr",
          "text": [
            "[nltk_data] Downloading package wordnet to /root/nltk_data...\n"
          ]
        }
      ],
      "source": [
        "import nltk\n",
        "nltk.download ('wordnet')\n",
        "from nltk.corpus import wordnet"
      ]
    },
    {
      "cell_type": "code",
      "source": [
        "#The first antonym of the word \"courageous\"\n",
        "antonyms = []\n",
        "for s in wordnet.synsets('courageous'):\n",
        "    for l in s.lemmas():\n",
        "        if l.antonyms():\n",
        "            antonyms.append(l.antonyms()[0].name())\n",
        "\n",
        "print(\"antonyms of courageous = \", set(antonyms))"
      ],
      "metadata": {
        "colab": {
          "base_uri": "https://localhost:8080/"
        },
        "id": "npLlYLL7F1NJ",
        "outputId": "4d5b8776-43ad-47d8-8791-22506ab1c823"
      },
      "execution_count": 2,
      "outputs": [
        {
          "output_type": "stream",
          "name": "stdout",
          "text": [
            "antonyms of courageous =  {'cowardly'}\n"
          ]
        }
      ]
    },
    {
      "cell_type": "code",
      "source": [
        "#The two first antonyms of the word \"courageous\"\n",
        "antonyms = []\n",
        "for s in wordnet.synsets('courageous'):\n",
        "  for l in s.lemmas():\n",
        "    if l.antonyms():\n",
        "\n",
        "      firstantonym = l.antonyms()[0].name()\n",
        "      secondantonym = None\n",
        "\n",
        "      if len(l.antonyms()) > 1:\n",
        "        secondantonym = l.antonyms()[1].name()\n",
        "    antonyms.append((firstantonym, secondantonym))\n",
        "print(\"antonyms of courageous = \", set(antonyms))"
      ],
      "metadata": {
        "colab": {
          "base_uri": "https://localhost:8080/"
        },
        "id": "BnEUndKUG5Qh",
        "outputId": "890997cb-ac66-44a4-96cf-cbd7eb6c99aa"
      },
      "execution_count": 4,
      "outputs": [
        {
          "output_type": "stream",
          "name": "stdout",
          "text": [
            "antonyms of courageous =  {('cowardly', None)}\n"
          ]
        }
      ]
    }
  ]
}